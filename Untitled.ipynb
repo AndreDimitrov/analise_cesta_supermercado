{
 "cells": [
  {
   "cell_type": "code",
   "execution_count": 16,
   "id": "ac5e95ff",
   "metadata": {},
   "outputs": [],
   "source": [
    "import pandas as pd\n",
    "import numpy as np"
   ]
  },
  {
   "cell_type": "code",
   "execution_count": 17,
   "id": "1b3586ba",
   "metadata": {},
   "outputs": [
    {
     "data": {
      "text/html": [
       "<div>\n",
       "<style scoped>\n",
       "    .dataframe tbody tr th:only-of-type {\n",
       "        vertical-align: middle;\n",
       "    }\n",
       "\n",
       "    .dataframe tbody tr th {\n",
       "        vertical-align: top;\n",
       "    }\n",
       "\n",
       "    .dataframe thead th {\n",
       "        text-align: right;\n",
       "    }\n",
       "</style>\n",
       "<table border=\"1\" class=\"dataframe\">\n",
       "  <thead>\n",
       "    <tr style=\"text-align: right;\">\n",
       "      <th></th>\n",
       "      <th>0</th>\n",
       "      <th>1</th>\n",
       "      <th>2</th>\n",
       "      <th>3</th>\n",
       "    </tr>\n",
       "  </thead>\n",
       "  <tbody>\n",
       "    <tr>\n",
       "      <th>0</th>\n",
       "      <td>leite</td>\n",
       "      <td>cerveja</td>\n",
       "      <td>pao</td>\n",
       "      <td>manteiga</td>\n",
       "    </tr>\n",
       "    <tr>\n",
       "      <th>1</th>\n",
       "      <td>cafe</td>\n",
       "      <td>pao</td>\n",
       "      <td>manteiga</td>\n",
       "      <td>NaN</td>\n",
       "    </tr>\n",
       "    <tr>\n",
       "      <th>2</th>\n",
       "      <td>cafe</td>\n",
       "      <td>pao</td>\n",
       "      <td>manteiga</td>\n",
       "      <td>NaN</td>\n",
       "    </tr>\n",
       "    <tr>\n",
       "      <th>3</th>\n",
       "      <td>leite</td>\n",
       "      <td>cafe</td>\n",
       "      <td>pao</td>\n",
       "      <td>manteiga</td>\n",
       "    </tr>\n",
       "    <tr>\n",
       "      <th>4</th>\n",
       "      <td>cerveja</td>\n",
       "      <td>NaN</td>\n",
       "      <td>NaN</td>\n",
       "      <td>NaN</td>\n",
       "    </tr>\n",
       "  </tbody>\n",
       "</table>\n",
       "</div>"
      ],
      "text/plain": [
       "         0        1         2         3\n",
       "0    leite  cerveja       pao  manteiga\n",
       "1     cafe      pao  manteiga       NaN\n",
       "2     cafe      pao  manteiga       NaN\n",
       "3    leite     cafe       pao  manteiga\n",
       "4  cerveja      NaN       NaN       NaN"
      ]
     },
     "execution_count": 17,
     "metadata": {},
     "output_type": "execute_result"
    }
   ],
   "source": [
    "dados = pd.read_csv('mercado.csv', header=None)\n",
    "dados.head()"
   ]
  },
  {
   "cell_type": "code",
   "execution_count": 18,
   "id": "1f89e593",
   "metadata": {},
   "outputs": [],
   "source": [
    "transactions = []\n",
    "\n",
    "for i in range(0,10):\n",
    "    transactions.append([str(dados.values[i,j]) for j in range(0,4)])"
   ]
  },
  {
   "cell_type": "code",
   "execution_count": 19,
   "id": "947093c5",
   "metadata": {},
   "outputs": [],
   "source": [
    "from apyori import apriori"
   ]
  },
  {
   "cell_type": "code",
   "execution_count": 20,
   "id": "79934f3a",
   "metadata": {},
   "outputs": [
    {
     "data": {
      "text/plain": [
       "[RelationRecord(items=frozenset({'cafe', 'manteiga'}), support=0.3, ordered_statistics=[OrderedStatistic(items_base=frozenset({'cafe'}), items_add=frozenset({'manteiga'}), confidence=1.0, lift=2.0)]),\n",
       " RelationRecord(items=frozenset({'cafe', 'pao'}), support=0.3, ordered_statistics=[OrderedStatistic(items_base=frozenset({'cafe'}), items_add=frozenset({'pao'}), confidence=1.0, lift=2.0)]),\n",
       " RelationRecord(items=frozenset({'cafe', 'pao', 'manteiga'}), support=0.3, ordered_statistics=[OrderedStatistic(items_base=frozenset({'cafe', 'manteiga'}), items_add=frozenset({'pao'}), confidence=1.0, lift=2.0), OrderedStatistic(items_base=frozenset({'cafe', 'pao'}), items_add=frozenset({'manteiga'}), confidence=1.0, lift=2.0)])]"
      ]
     },
     "execution_count": 20,
     "metadata": {},
     "output_type": "execute_result"
    }
   ],
   "source": [
    "regras = apriori(transactions, min_support = 0.3, min_confidence = 0.8, min_lift = 2, min_lenght = 2)\n",
    "\n",
    "resultados = list(regras)\n",
    "resultados"
   ]
  },
  {
   "cell_type": "code",
   "execution_count": 21,
   "id": "4cdd0e06",
   "metadata": {},
   "outputs": [
    {
     "data": {
      "text/plain": [
       "[[frozenset({'cafe', 'manteiga'}),\n",
       "  0.3,\n",
       "  [OrderedStatistic(items_base=frozenset({'cafe'}), items_add=frozenset({'manteiga'}), confidence=1.0, lift=2.0)]],\n",
       " [frozenset({'cafe', 'pao'}),\n",
       "  0.3,\n",
       "  [OrderedStatistic(items_base=frozenset({'cafe'}), items_add=frozenset({'pao'}), confidence=1.0, lift=2.0)]],\n",
       " [frozenset({'cafe', 'manteiga', 'pao'}),\n",
       "  0.3,\n",
       "  [OrderedStatistic(items_base=frozenset({'cafe', 'manteiga'}), items_add=frozenset({'pao'}), confidence=1.0, lift=2.0),\n",
       "   OrderedStatistic(items_base=frozenset({'cafe', 'pao'}), items_add=frozenset({'manteiga'}), confidence=1.0, lift=2.0)]]]"
      ]
     },
     "execution_count": 21,
     "metadata": {},
     "output_type": "execute_result"
    }
   ],
   "source": [
    "resultados2 = [list(x) for x in resultados]\n",
    "resultados2"
   ]
  },
  {
   "cell_type": "code",
   "execution_count": 22,
   "id": "30fb3ab8",
   "metadata": {},
   "outputs": [],
   "source": [
    "resultadoFormatado = []\n",
    "for j in range(0,3):\n",
    "    resultadoFormatado.append([list(x) for x in resultados2[j][2]])"
   ]
  },
  {
   "cell_type": "code",
   "execution_count": 23,
   "id": "3a891c5d",
   "metadata": {},
   "outputs": [
    {
     "data": {
      "text/plain": [
       "[[[frozenset({'cafe'}), frozenset({'manteiga'}), 1.0, 2.0]],\n",
       " [[frozenset({'cafe'}), frozenset({'pao'}), 1.0, 2.0]],\n",
       " [[frozenset({'cafe', 'manteiga'}), frozenset({'pao'}), 1.0, 2.0],\n",
       "  [frozenset({'cafe', 'pao'}), frozenset({'manteiga'}), 1.0, 2.0]]]"
      ]
     },
     "execution_count": 23,
     "metadata": {},
     "output_type": "execute_result"
    }
   ],
   "source": [
    "resultadoFormatado"
   ]
  },
  {
   "cell_type": "code",
   "execution_count": null,
   "id": "cef9fac5",
   "metadata": {},
   "outputs": [],
   "source": []
  }
 ],
 "metadata": {
  "kernelspec": {
   "display_name": "Python 3 (ipykernel)",
   "language": "python",
   "name": "python3"
  },
  "language_info": {
   "codemirror_mode": {
    "name": "ipython",
    "version": 3
   },
   "file_extension": ".py",
   "mimetype": "text/x-python",
   "name": "python",
   "nbconvert_exporter": "python",
   "pygments_lexer": "ipython3",
   "version": "3.9.7"
  }
 },
 "nbformat": 4,
 "nbformat_minor": 5
}
